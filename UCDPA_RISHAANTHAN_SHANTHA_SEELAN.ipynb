{
  "nbformat": 4,
  "nbformat_minor": 0,
  "metadata": {
    "colab": {
      "provenance": [],
      "authorship_tag": "ABX9TyPR43/cCFwO6J4hR9Ix/+da",
      "include_colab_link": true
    },
    "kernelspec": {
      "name": "python3",
      "display_name": "Python 3"
    },
    "language_info": {
      "name": "python"
    }
  },
  "cells": [
    {
      "cell_type": "markdown",
      "metadata": {
        "id": "view-in-github",
        "colab_type": "text"
      },
      "source": [
        "<a href=\"https://colab.research.google.com/github/Rishaanthan/UCDPA_RishaanthanShanthaSeelan/blob/main/UCDPA_RISHAANTHAN_SHANTHA_SEELAN.ipynb\" target=\"_parent\"><img src=\"https://colab.research.google.com/assets/colab-badge.svg\" alt=\"Open In Colab\"/></a>"
      ]
    },
    {
      "cell_type": "code",
      "execution_count": null,
      "metadata": {
        "id": "vyV1-V2ItKCM"
      },
      "outputs": [],
      "source": [
        "# Importing Libraries\n",
        "import pandas as pd\n",
        "import numpy as np\n",
        "import matplotlib.pyplot as plt\n",
        "\n",
        "#Importing and sorting data set\n",
        "\n",
        "seat_utilsation_df = pd.read_csv('seat_utilisation.csv', index_col = 0)\n",
        "seat_utilsation_df.sort_values('Passengers_In', ascending = False)\n",
        "seat_utilsation_df.sort_values(['Year','Passengers_In'], ascending = [True,False])\n",
        "\n",
        "\n",
        "\n"
      ]
    },
    {
      "cell_type": "code",
      "source": [
        "# Overall Load Factor Analysis of Passengers Entering and Leaving Australia per year\n",
        "\n",
        "# Grouping data of average passengers entering and exiting Australia and average Available Seats entering and exiting Australia\n",
        "Passenger_In_per_year = seat_utilsation_df.groupby('Year')['Passengers_In'].mean()\n",
        "Passenger_Out_per_year = seat_utilsation_df.groupby('Year')['Passengers_Out'].mean()\n",
        "Seats_In_per_year = seat_utilsation_df.groupby('Year')['Seats_In'].mean()\n",
        "Seats_Out_per_year = seat_utilsation_df.groupby('Year')['Seats_Out'].mean()\n",
        "\n",
        "# Calculating the average Load Factor (Load Factor is used to determine the percentage of available seating capacity that has been filled with passengers)\n",
        "LoadFactor_per_year_in = (Passenger_In_per_year/Seats_In_per_year) *100\n",
        "LoadFactor_per_year_out = (Passenger_Out_per_year/Seats_Out_per_year) *100\n",
        "\n",
        "# Plotting Load Factor\n",
        "LoadFactor_per_year_in.plot(kind = 'bar', title = ' Load Factor For Passenger Entering Australia per Year', xlabel = 'Year', ylabel = 'Load Factor (%)')\n",
        "plt.show()\n",
        "LoadFactor_per_year_out.plot(kind = 'bar', title = ' Load Factor For Passenger Leaving Australia per Year', xlabel = 'Year', ylabel = 'Load Factor (%)')\n",
        "plt.show()"
      ],
      "metadata": {
        "id": "FelGKOYmUcbe"
      },
      "execution_count": null,
      "outputs": []
    },
    {
      "cell_type": "code",
      "source": [
        "# Airline Analysis\n",
        "# Subsetting Qantas_Airways data for Analysis\n",
        "Qantas_Airways = seat_utilsation_df[seat_utilsation_df['Airline'] == 'Qantas Airways']\n",
        "\n",
        "#-----QANTAS AIRWAYS PRE COVID AND POST COVID ANALYSIS-------#\n",
        "\n",
        "# Qantas Airways Load Factor and Averange Flight In and Out Analysis pre Covid Year 2019\n",
        "Qantas_Airways_2019 = Qantas_Airways[Qantas_Airways['Year'] == 2019]\n",
        "Passenger_In_per_year_2019 = Qantas_Airways_2019.groupby('Year')['Passengers_In'].mean()\n",
        "Passenger_Out_per_year_2019 = Qantas_Airways_2019.groupby('Year')['Passengers_Out'].mean()\n",
        "Seats_In_per_year_2019 = Qantas_Airways_2019.groupby('Year')['Seats_In'].mean()\n",
        "Seats_Out_per_year_2019 = Qantas_Airways_2019.groupby('Year')['Seats_Out'].mean()\n",
        "\n",
        "LoadFactor_per_year_in_2019 = (Passenger_In_per_year_2019/Seats_In_per_year_2019) *100\n",
        "LoadFactor_per_year_out_2019 = (Passenger_Out_per_year_2019/Seats_Out_per_year_2019) *100\n",
        "\n",
        "print(Qantas_Airways_2019.pivot_table(values=[\"Flights_In\", \"Flights_Out\"] , index=\"Month\", aggfunc=np.mean))  # Print pivot table to show averange flights in and out of Australia operated by Qantas Airways in 2019\n",
        "\n",
        "# Qantas Airways Load Factor and Averange Flight In and Out Analysis pre Covid Year 2020\n",
        "Qantas_Airways_2020 = Qantas_Airways[Qantas_Airways['Year'] == 2020]\n",
        "Passenger_In_per_year_2020 = Qantas_Airways_2020.groupby('Year')['Passengers_In'].mean()\n",
        "Passenger_Out_per_year_2020 = Qantas_Airways_2020.groupby('Year')['Passengers_Out'].mean()\n",
        "Seats_In_per_year_2020 = Qantas_Airways_2020.groupby('Year')['Seats_In'].mean()\n",
        "Seats_Out_per_year_2020 = Qantas_Airways_2020.groupby('Year')['Seats_Out'].mean()\n",
        "\n",
        "\n",
        "print(Qantas_Airways_2020.pivot_table(values=[\"Flights_In\", \"Flights_Out\"] , index=\"Month\", aggfunc=np.mean)) # Print pivot table to show averange flights in and out of Australia operated by Qantas Airways in 2020\n",
        "\n",
        "LoadFactor_per_year_in_2020 = (Passenger_In_per_year_2020/Seats_In_per_year_2020) *100\n",
        "LoadFactor_per_year_out_2020 = (Passenger_Out_per_year_2020/Seats_Out_per_year_2020) *100\n",
        "\n",
        "\n",
        "# Qantas Airways Load Factor and Averange Flight In and Out Analysis pre Covid Year 2021\n",
        "Qantas_Airways_2021 = Qantas_Airways[Qantas_Airways['Year'] == 2021]\n",
        "Passenger_In_per_year_2021 = Qantas_Airways_2021.groupby('Year')['Passengers_In'].mean()\n",
        "Passenger_Out_per_year_2021 = Qantas_Airways_2021.groupby('Year')['Passengers_Out'].mean()\n",
        "Seats_In_per_year_2021 = Qantas_Airways_2021.groupby('Year')['Seats_In'].mean()\n",
        "Seats_Out_per_year_2021 = Qantas_Airways_2021.groupby('Year')['Seats_Out'].mean()\n",
        "\n",
        "print(Qantas_Airways_2021.pivot_table(values=[\"Flights_In\", \"Flights_Out\"] , index=\"Month\", aggfunc=np.mean)) # Print pivot table to show averange flights in and out of Australia operated by Qantas Airways in 2021\n",
        "\n",
        "LoadFactor_per_year_in_2021 = (Passenger_In_per_year_2021/Seats_In_per_year_2021) *100\n",
        "LoadFactor_per_year_out_2021 = (Passenger_Out_per_year_2021/Seats_Out_per_year_2021) *100\n",
        "\n",
        "# Qantas Airways Load Factor and Averange Flight In and Out Analysis pre Covid Year 2022\n",
        "Qantas_Airways_2022 = Qantas_Airways[Qantas_Airways['Year'] == 2022]\n",
        "Passenger_In_per_year_2022 = Qantas_Airways_2022.groupby('Year')['Passengers_In'].mean()\n",
        "Passenger_Out_per_year_2022 = Qantas_Airways_2022.groupby('Year')['Passengers_Out'].mean()\n",
        "Seats_In_per_year_2022 = Qantas_Airways_2022.groupby('Year')['Seats_In'].mean()\n",
        "Seats_Out_per_year_2022 = Qantas_Airways_2022.groupby('Year')['Seats_Out'].mean()\n",
        "\n",
        "print(Qantas_Airways_2022.pivot_table(values=[\"Flights_In\", \"Flights_Out\"] , index=\"Month\", aggfunc=np.mean))  # Print pivot table to show averange flights in and out of Australia operated by Qantas Airways in 2022\n",
        "\n",
        "LoadFactor_per_year_in_2022 = (Passenger_In_per_year_2022/Seats_In_per_year_2022) *100\n",
        "LoadFactor_per_year_out_2022 = (Passenger_Out_per_year_2022/Seats_Out_per_year_2022) *100\n",
        "\n",
        "# Creating a dictionary with key: 2019,2020,2021 & 2022 and assigning Load Factor values for the Keys for passengers entering Australia\n",
        "list_of_dicts_passengerIn = {2019:LoadFactor_per_year_in_2019, 2020: LoadFactor_per_year_in_2020, 2021: LoadFactor_per_year_in_2021, 2022: LoadFactor_per_year_in_2022 }\n",
        "LoadFactors_In = pd.DataFrame(list_of_dicts_passengerIn)\n",
        "\n",
        "# Creating a dictionary with key: 2019,2020,2021 & 2022 and assigning Load Factor values for the Keys for passengers exiting Australia\n",
        "list_of_dicts_passengerOut = {2019:LoadFactor_per_year_out_2019, 2020: LoadFactor_per_year_out_2020, 2021: LoadFactor_per_year_out_2021, 2022: LoadFactor_per_year_out_2022 }\n",
        "LoadFactors_Out = pd.DataFrame(list_of_dicts_passengerOut)\n",
        "\n",
        "# Plotting Qantas Average Load Factor pre and post Covid 19 of passengers entering Australia.\n",
        "LoadFactors_In.plot(kind = 'bar', title = 'Qantas Airways Load Factor Pre and Post Covid 19 of passengers entering Australia', xlabel = 'Year', ylabel = 'Load Factor (%)')\n",
        "plt.show()\n",
        "\n",
        "# Plotting Qantas Average Load Factor pre and post Covid 19 of passengers exiting Australia.\n",
        "LoadFactors_Out.plot(kind = 'bar', title = 'Qantas Airways Load Factor Pre and Post Covid 19 of passengers exiting Australia', xlabel = 'Year', ylabel = 'Load Factor (%)')\n",
        "plt.show()"
      ],
      "metadata": {
        "id": "QJRyQCtawAwN"
      },
      "execution_count": null,
      "outputs": []
    },
    {
      "cell_type": "code",
      "source": [
        "# Identifying Major countries with most flights to Australia in 2022\n",
        "\n",
        "# Subsetting 2022 data\n",
        "Year_2022 = seat_utilsation_df[seat_utilsation_df['Year'] == 2022]\n",
        "\n",
        "# Grouping 2022 flights in against countries\n",
        "Countries_Flights_In = Year_2022.groupby('Service_Country')['Flights_In'].mean()\n",
        "\n",
        "# Sorting Data in Ascending Order\n",
        "df3_sorted = pd.DataFrame(Countries_Flights_In).sort_values(\"Flights_In\",ascending = True)\n",
        "\n",
        "# Creating a plot for the Data\n",
        "df3_sorted.plot(kind = 'bar', xlabel = \"Countries\", ylabel = \"Flights in 2022\", title = 'Countries Flight From in 2022')\n",
        "plt.show()\n",
        "\n",
        "\n"
      ],
      "metadata": {
        "id": "9TEG7uEIb44z"
      },
      "execution_count": null,
      "outputs": []
    }
  ]
}